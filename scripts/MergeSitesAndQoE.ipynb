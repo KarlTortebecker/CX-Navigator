{
 "cells": [
  {
   "cell_type": "markdown",
   "metadata": {},
   "source": [
    "### **Merging de fichiers pour obtenir des infos sites + QoE**"
   ]
  },
  {
   "cell_type": "code",
   "execution_count": 31,
   "metadata": {},
   "outputs": [],
   "source": [
    "import pandas as pd\n",
    "import json"
   ]
  },
  {
   "cell_type": "code",
   "execution_count": 22,
   "metadata": {},
   "outputs": [],
   "source": [
    "# Lire les fichiers Excel\n",
    "df_sites = pd.read_excel('C:/Users/SJWF8604/Documents/projects/cx-nav/scripts/data/Echantillon_sites.xlsx',  usecols=['nom', 'localite', 'region', 'departement', 'arrondissement', 'zone_pmo', 'code','type_zone','latitude', 'longitude'])\n",
    "df_qoe = pd.read_excel('C:/Users/SJWF8604/Documents/projects/cx-nav/scripts/data/QoE sites 8 Mars-Avril.xlsx')\n"
   ]
  },
  {
   "cell_type": "code",
   "execution_count": 23,
   "metadata": {},
   "outputs": [],
   "source": [
    "# Renommer la colonne du DataFrame des sites pour qu'elle corresponde à celle du DataFrame QoE\n",
    "df_qoe.rename(columns={'site': 'nom'}, inplace=True)"
   ]
  },
  {
   "cell_type": "code",
   "execution_count": 24,
   "metadata": {},
   "outputs": [
    {
     "name": "stdout",
     "output_type": "stream",
     "text": [
      "                  nom       voix        sms       data        web   download  \\\n",
      "0        ABABENDOMANG  95.964126  95.377504  63.235294  65.957447  66.666667   \n",
      "1     ABANG-MINKO-IHS  96.448598  96.538831  80.890176  89.071730  83.877551   \n",
      "2       ABANG-MTN-IHS  96.049625  91.149542  82.672580  89.778180  79.766484   \n",
      "3            ABATTOIR  95.378326  93.346430  80.995326  85.360296  84.727312   \n",
      "4                ABOM  96.668286  90.520163  83.771727  89.048630  84.706622   \n",
      "...               ...        ...        ...        ...        ...        ...   \n",
      "2700          ZOUELVA  74.819183  84.130764  45.454545  46.666667  50.000000   \n",
      "2701          ZOUHAYE  93.243367  78.461774  87.990945  92.400673  88.281250   \n",
      "2702        ZOULABOT1  77.634821  95.442615  63.736264  63.815789  90.000000   \n",
      "2703        ZOULABOT2  91.598174  94.967532  64.583333  65.172414  80.000000   \n",
      "2704      ZOUVOUL-IHS  95.102603  60.605777  91.087363  95.614604  91.463415   \n",
      "\n",
      "      streaming   voip  drop_call  moy_clients_voix  moy_clients_sms  \\\n",
      "0     55.555556    NaN   0.000000                37                6   \n",
      "1     72.121145  100.0   0.000000               231               62   \n",
      "2     74.457890  100.0   0.060054              2634              563   \n",
      "3     75.859563  100.0   0.017370              3352              545   \n",
      "4     77.874165  100.0   0.011568              1748              426   \n",
      "...         ...    ...        ...               ...              ...   \n",
      "2700   0.000000    NaN   0.055636               914              165   \n",
      "2701  83.366315    NaN   0.001530              2143              206   \n",
      "2702  50.000000    NaN   0.000000               205               46   \n",
      "2703  38.095238    NaN   0.000000                59               14   \n",
      "2704  86.749226    NaN   0.068806              1343              105   \n",
      "\n",
      "      moy_clients_data  \n",
      "0                   16  \n",
      "1                  261  \n",
      "2                 5814  \n",
      "3                 5814  \n",
      "4                 3967  \n",
      "...                ...  \n",
      "2700               198  \n",
      "2701               963  \n",
      "2702                81  \n",
      "2703                26  \n",
      "2704               595  \n",
      "\n",
      "[2705 rows x 12 columns]\n"
     ]
    }
   ],
   "source": [
    "print(df_qoe)"
   ]
  },
  {
   "cell_type": "code",
   "execution_count": 25,
   "metadata": {},
   "outputs": [
    {
     "name": "stdout",
     "output_type": "stream",
     "text": [
      "2705\n",
      "666\n"
     ]
    }
   ],
   "source": [
    "print(len(df_qoe))\n",
    "print(len(df_sites))"
   ]
  },
  {
   "cell_type": "code",
   "execution_count": 26,
   "metadata": {},
   "outputs": [],
   "source": [
    "# Fusionner les deux DataFrames sur les colonnes contenant les noms des sites\n",
    "df_merged = pd.merge(df_qoe,df_sites, on='nom')\n",
    "\n"
   ]
  },
  {
   "cell_type": "code",
   "execution_count": 27,
   "metadata": {},
   "outputs": [
    {
     "name": "stdout",
     "output_type": "stream",
     "text": [
      "600\n"
     ]
    }
   ],
   "source": [
    "print(len(df_merged))"
   ]
  },
  {
   "cell_type": "code",
   "execution_count": 28,
   "metadata": {},
   "outputs": [
    {
     "name": "stdout",
     "output_type": "stream",
     "text": [
      "                   nom       voix        sms       data        web   download  \\\n",
      "0             ABATTOIR  95.378326  93.346430  80.995326  85.360296  84.727312   \n",
      "1            ABOME-NEW  78.547608  91.590375  74.393039  79.271439  80.428385   \n",
      "2          ABONG-MBANG  96.934613  92.557086  77.704351  85.720473  76.327116   \n",
      "3         ACROPOLE-IHS  95.379476  91.974926  85.677542  93.849971  91.747053   \n",
      "4    ADOUMRI-HOULA-IHS  95.079055  74.260916  97.954076  97.553123  96.153846   \n",
      "..                 ...        ...        ...        ...        ...        ...   \n",
      "595          ZANAY-IHS  94.822539  67.388788  76.795669  82.296173  79.876161   \n",
      "596               ZHOA  96.680498  94.516595  75.783828  85.161290  90.476190   \n",
      "597           ZI-BASSA  97.187294  89.930812  85.628089  92.897546  91.408765   \n",
      "598          ZIDIM-IHS  94.268174  75.765077  88.803534  91.882197  86.146096   \n",
      "599          ZOEBEMVAM  95.941218  86.848000  60.962567  70.000000  87.096774   \n",
      "\n",
      "     streaming   voip  drop_call  moy_clients_voix  ...  moy_clients_data  \\\n",
      "0    75.859563  100.0   0.017370              3352  ...              5814   \n",
      "1    68.184182  100.0   0.003318              2131  ...              3475   \n",
      "2    68.609463  100.0   0.005005              3713  ...              2732   \n",
      "3    74.481184  100.0   0.018821              1311  ...              5123   \n",
      "4    98.207714    NaN   0.047486              2134  ...               843   \n",
      "..         ...    ...        ...               ...  ...               ...   \n",
      "595  71.156710  100.0   0.010977              3111  ...              1375   \n",
      "596  67.084639    NaN   0.000000                 9  ...                34   \n",
      "597  77.329838  100.0   0.073105              2226  ...             12374   \n",
      "598  85.595202    NaN   0.126852              2040  ...               966   \n",
      "599   8.333333    NaN   0.000000               116  ...                41   \n",
      "\n",
      "         localite        region      departement arrondissement    type_zone  \\\n",
      "0        GAMBOURA  EXTRÊME-NORD     MAYO-TSANAGA        BOURRHA       Rurale   \n",
      "1       MUTENGENE     SUD-OUEST             FAKO         LIMBE1  Semi-Urbain   \n",
      "2       TOURNIGAL      ADAMAOUA             VINA       NYAMBAKA       Rurale   \n",
      "3      SONGKOLONG      ADAMAOUA       MAYO-BANYO         BANKIM       Rurale   \n",
      "4           POUMA      LITTORAL  SANAGA-MARITIME          POUMA       Rurale   \n",
      "..            ...           ...              ...            ...          ...   \n",
      "595         KRIBI           SUD            OCÉAN         KRIBI2       Urbain   \n",
      "596        NDOKOK      LITTORAL  SANAGA-MARITIME        MAKONDO       Rurale   \n",
      "597          BELO    NORD-OUEST             BOYO           BELO       Rurale   \n",
      "598  TCHIARI-ABBA  EXTRÊME-NORD  LOGONE-ET-CHARI         MAKARY       Rurale   \n",
      "599    Pate Manga          NORD             FARO           POLI       Rurale   \n",
      "\n",
      "                      zone_pmo     code  longitude  latitude  \n",
      "0                   DANAY KANI  LIT_584  10.667600  5.518730  \n",
      "1                MEME ET NDIAN  EST_029   9.184810  4.023789  \n",
      "2    NGAOUNDERE - MAYO REY SUD  NRO_063  10.920590  5.733380  \n",
      "3    NGAOUNDERE - MAYO REY SUD  NUR0086  12.465600  7.445800  \n",
      "4              SANAGA MARITIME  NRO_239  13.525797  5.192461  \n",
      "..                         ...      ...        ...       ...  \n",
      "595                      OCEAN  EXN_038   9.753528  4.100478  \n",
      "596            SANAGA MARITIME  NRD_009  10.559000  3.870769  \n",
      "597         BAMENDA NKWEN BOYO  LIT_554  14.725000  6.328694  \n",
      "598                 DANAY KANI  LIT_413   9.729285  4.046356  \n",
      "599             DJEREM - MBERE  NRD_060  12.391978  5.992331  \n",
      "\n",
      "[600 rows x 21 columns]\n"
     ]
    }
   ],
   "source": [
    "\n",
    "# Afficher les informations pour un site spécifique (remplacez 'Nom_du_site_recherché' par le nom du site que vous recherchez)\n",
    "#nom_site_recherche = 'Nom_du_site_recherché'\n",
    "#site_info = df_merged[df_merged['Nom du site'] == nom_site_recherche]\n",
    "\n",
    "# Afficher les informations du site recherché\n",
    "print(df_merged)\n"
   ]
  },
  {
   "cell_type": "code",
   "execution_count": 29,
   "metadata": {},
   "outputs": [],
   "source": [
    "# Sauvegarder le DataFrame fusionné dans un nouveau fichier Excel\n",
    "df_merged.to_excel('output/sites+qoe.xlsx', index=False)"
   ]
  },
  {
   "cell_type": "code",
   "execution_count": 33,
   "metadata": {},
   "outputs": [],
   "source": [
    "# Convert DataFrame to JSON\n",
    "json_data = df_merged.to_json(orient='records')\n",
    "    \n",
    "# Write JSON to a file\n",
    "with open('output/markers.json', 'w') as f:\n",
    "    f.write(json_data)"
   ]
  }
 ],
 "metadata": {
  "kernelspec": {
   "display_name": "base",
   "language": "python",
   "name": "python3"
  },
  "language_info": {
   "codemirror_mode": {
    "name": "ipython",
    "version": 3
   },
   "file_extension": ".py",
   "mimetype": "text/x-python",
   "name": "python",
   "nbconvert_exporter": "python",
   "pygments_lexer": "ipython3",
   "version": "3.9.13"
  }
 },
 "nbformat": 4,
 "nbformat_minor": 2
}
