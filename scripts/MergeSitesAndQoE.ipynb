{
 "cells": [
  {
   "cell_type": "markdown",
   "metadata": {},
   "source": [
    "### **Merging de fichiers pour obtenir des infos sites + QoE**"
   ]
  },
  {
   "cell_type": "code",
   "execution_count": 1,
   "metadata": {},
   "outputs": [],
   "source": [
    "import pandas as pd"
   ]
  },
  {
   "cell_type": "code",
   "execution_count": 2,
   "metadata": {},
   "outputs": [],
   "source": [
    "# Lire les fichiers Excel\n",
    "df_sites = pd.read_excel('C:/Users/SJWF8604/Documents/projects/cx-nav/scripts/data/Echantillon_sites.xlsx',  usecols=['nom', 'localite', 'region', 'departement', 'arrondissement', 'zone_pmo', 'code','type_zone','latitude', 'longitude'])\n",
    "df_qoe = pd.read_excel('C:/Users/SJWF8604/Documents/projects/cx-nav/scripts/data/QoE sites 8 Mars-Avril.xlsx', usecols=['site','voix', 'sms','data','web', 'download','streaming','voip','drop_call'])\n"
   ]
  },
  {
   "cell_type": "code",
   "execution_count": 3,
   "metadata": {},
   "outputs": [],
   "source": [
    "# Renommer la colonne du DataFrame des sites pour qu'elle corresponde à celle du DataFrame QoE\n",
    "df_sites.rename(columns={'nom': 'site'}, inplace=True)"
   ]
  },
  {
   "cell_type": "code",
   "execution_count": 4,
   "metadata": {},
   "outputs": [
    {
     "name": "stdout",
     "output_type": "stream",
     "text": [
      "       localite      region       departement arrondissement    type_zone  \\\n",
      "0        BOUSSA        NORD            BÉNOUE          PITOA       Rurale   \n",
      "1       MBOMELA         SUD       DJA-ET-LOBO          DJOUM       Rurale   \n",
      "2        DOUALA    LITTORAL             WOURI        DOUALA3       Urbain   \n",
      "3       YAOUNDE      CENTRE           MFOUNDI       YAOUNDÉ1       Urbain   \n",
      "4      LAMEDOUM         EST   BOUMBA-ET-NGOKO      YOKADOUMA       Rurale   \n",
      "..          ...         ...               ...            ...          ...   \n",
      "661       AMBAM         SUD    VALLÉE-DU-NTEM          AMBAM  Semi-Urbain   \n",
      "662      DOUALA    LITTORAL             WOURI        DOUALA3       Urbain   \n",
      "663  AKONOLINGA      CENTRE  NYONG-ET-MFOUMOU     AKONOLINGA  Semi-Urbain   \n",
      "664      FUNGOM  NORD-OUEST           MENCHUM         FUNGOM       Rurale   \n",
      "665  NGAOUNTERE    ADAMAOUA       FARO-ET-DÉO        TIGNÈRE       Rurale   \n",
      "\n",
      "                              zone_pmo     code                      site  \\\n",
      "0              GAROUA OUEST-MAYO LOUTI  EXN_041               OBOBOGO-NEW   \n",
      "1                            GRAND SUD  OCM0062             MAROUA-ORANGE   \n",
      "2                              VILLAGE  EXN_012           TALLA-KRIBI-IHS   \n",
      "3                         BASTOS-ESSOS  OCM0208                  TOLE-IHS   \n",
      "4                      BOUMBA ET NGOKO  OCM0104                SONG-MAHOP   \n",
      "..                                 ...      ...                       ...   \n",
      "661                          GRAND SUD  NRD_032                MEFOU-ASSI   \n",
      "662                            VILLAGE  LIT_669             DOUME-MTN-IHS   \n",
      "663  EKOUNOU - MFOU - NYONG ET MFOUMOU  NUR0033       INSTITUTE-SAMBA-NEW   \n",
      "664             BAMENDA MANKON MENCHUM  NRD_062  NDPSSI-VALLEE-DE-LA-PAIX   \n",
      "665                     DJEREM - MBERE  OST_300         MPENDA-MBOCKO-IHS   \n",
      "\n",
      "     longitude   latitude  \n",
      "0    13.588944   7.295389  \n",
      "1     9.725518   4.071365  \n",
      "2    12.059690   5.613630  \n",
      "3    11.128303   2.804068  \n",
      "4     9.814172   3.979310  \n",
      "..         ...        ...  \n",
      "661  12.199820   5.232310  \n",
      "662  14.835721  10.180425  \n",
      "663  13.993090  10.691640  \n",
      "664  11.522225   3.855655  \n",
      "665  13.829818   9.828275  \n",
      "\n",
      "[666 rows x 10 columns]\n"
     ]
    }
   ],
   "source": [
    "print(df_sites)"
   ]
  },
  {
   "cell_type": "code",
   "execution_count": 5,
   "metadata": {},
   "outputs": [
    {
     "name": "stdout",
     "output_type": "stream",
     "text": [
      "2705\n",
      "666\n"
     ]
    }
   ],
   "source": [
    "print(len(df_qoe))\n",
    "print(len(df_sites))"
   ]
  },
  {
   "cell_type": "code",
   "execution_count": 10,
   "metadata": {},
   "outputs": [],
   "source": [
    "# Fusionner les deux DataFrames sur les colonnes contenant les noms des sites\n",
    "df_merged = pd.merge(df_qoe,df_sites, on='site')\n",
    "\n"
   ]
  },
  {
   "cell_type": "code",
   "execution_count": 11,
   "metadata": {},
   "outputs": [
    {
     "name": "stdout",
     "output_type": "stream",
     "text": [
      "600\n"
     ]
    }
   ],
   "source": [
    "print(len(df_merged))"
   ]
  },
  {
   "cell_type": "code",
   "execution_count": 12,
   "metadata": {},
   "outputs": [
    {
     "name": "stdout",
     "output_type": "stream",
     "text": [
      "                  site       voix        sms       data        web   download  \\\n",
      "0             ABATTOIR  95.378326  93.346430  80.995326  85.360296  84.727312   \n",
      "1            ABOME-NEW  78.547608  91.590375  74.393039  79.271439  80.428385   \n",
      "2          ABONG-MBANG  96.934613  92.557086  77.704351  85.720473  76.327116   \n",
      "3         ACROPOLE-IHS  95.379476  91.974926  85.677542  93.849971  91.747053   \n",
      "4    ADOUMRI-HOULA-IHS  95.079055  74.260916  97.954076  97.553123  96.153846   \n",
      "..                 ...        ...        ...        ...        ...        ...   \n",
      "595          ZANAY-IHS  94.822539  67.388788  76.795669  82.296173  79.876161   \n",
      "596               ZHOA  96.680498  94.516595  75.783828  85.161290  90.476190   \n",
      "597           ZI-BASSA  97.187294  89.930812  85.628089  92.897546  91.408765   \n",
      "598          ZIDIM-IHS  94.268174  75.765077  88.803534  91.882197  86.146096   \n",
      "599          ZOEBEMVAM  95.941218  86.848000  60.962567  70.000000  87.096774   \n",
      "\n",
      "     streaming   voip  drop_call      localite        region      departement  \\\n",
      "0    75.859563  100.0   0.017370      GAMBOURA  EXTRÊME-NORD     MAYO-TSANAGA   \n",
      "1    68.184182  100.0   0.003318     MUTENGENE     SUD-OUEST             FAKO   \n",
      "2    68.609463  100.0   0.005005     TOURNIGAL      ADAMAOUA             VINA   \n",
      "3    74.481184  100.0   0.018821    SONGKOLONG      ADAMAOUA       MAYO-BANYO   \n",
      "4    98.207714    NaN   0.047486         POUMA      LITTORAL  SANAGA-MARITIME   \n",
      "..         ...    ...        ...           ...           ...              ...   \n",
      "595  71.156710  100.0   0.010977         KRIBI           SUD            OCÉAN   \n",
      "596  67.084639    NaN   0.000000        NDOKOK      LITTORAL  SANAGA-MARITIME   \n",
      "597  77.329838  100.0   0.073105          BELO    NORD-OUEST             BOYO   \n",
      "598  85.595202    NaN   0.126852  TCHIARI-ABBA  EXTRÊME-NORD  LOGONE-ET-CHARI   \n",
      "599   8.333333    NaN   0.000000    Pate Manga          NORD             FARO   \n",
      "\n",
      "    arrondissement    type_zone                   zone_pmo     code  \\\n",
      "0          BOURRHA       Rurale                 DANAY KANI  LIT_584   \n",
      "1           LIMBE1  Semi-Urbain              MEME ET NDIAN  EST_029   \n",
      "2         NYAMBAKA       Rurale  NGAOUNDERE - MAYO REY SUD  NRO_063   \n",
      "3           BANKIM       Rurale  NGAOUNDERE - MAYO REY SUD  NUR0086   \n",
      "4            POUMA       Rurale            SANAGA MARITIME  NRO_239   \n",
      "..             ...          ...                        ...      ...   \n",
      "595         KRIBI2       Urbain                      OCEAN  EXN_038   \n",
      "596        MAKONDO       Rurale            SANAGA MARITIME  NRD_009   \n",
      "597           BELO       Rurale         BAMENDA NKWEN BOYO  LIT_554   \n",
      "598         MAKARY       Rurale                 DANAY KANI  LIT_413   \n",
      "599           POLI       Rurale             DJEREM - MBERE  NRD_060   \n",
      "\n",
      "     longitude  latitude  \n",
      "0    10.667600  5.518730  \n",
      "1     9.184810  4.023789  \n",
      "2    10.920590  5.733380  \n",
      "3    12.465600  7.445800  \n",
      "4    13.525797  5.192461  \n",
      "..         ...       ...  \n",
      "595   9.753528  4.100478  \n",
      "596  10.559000  3.870769  \n",
      "597  14.725000  6.328694  \n",
      "598   9.729285  4.046356  \n",
      "599  12.391978  5.992331  \n",
      "\n",
      "[600 rows x 18 columns]\n"
     ]
    }
   ],
   "source": [
    "\n",
    "# Afficher les informations pour un site spécifique (remplacez 'Nom_du_site_recherché' par le nom du site que vous recherchez)\n",
    "#nom_site_recherche = 'Nom_du_site_recherché'\n",
    "#site_info = df_merged[df_merged['Nom du site'] == nom_site_recherche]\n",
    "\n",
    "# Afficher les informations du site recherché\n",
    "print(df_merged)\n"
   ]
  }
 ],
 "metadata": {
  "kernelspec": {
   "display_name": "base",
   "language": "python",
   "name": "python3"
  },
  "language_info": {
   "codemirror_mode": {
    "name": "ipython",
    "version": 3
   },
   "file_extension": ".py",
   "mimetype": "text/x-python",
   "name": "python",
   "nbconvert_exporter": "python",
   "pygments_lexer": "ipython3",
   "version": "3.9.13"
  }
 },
 "nbformat": 4,
 "nbformat_minor": 2
}
