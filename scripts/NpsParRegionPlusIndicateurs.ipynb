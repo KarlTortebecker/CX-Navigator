{
 "cells": [
  {
   "cell_type": "code",
   "execution_count": 31,
   "metadata": {},
   "outputs": [],
   "source": [
    "import pandas as pd"
   ]
  },
  {
   "cell_type": "markdown",
   "metadata": {},
   "source": [
    "##### **Fonctions utiles pour mon script**"
   ]
  },
  {
   "cell_type": "code",
   "execution_count": 32,
   "metadata": {},
   "outputs": [],
   "source": [
    "# Fonction de classification\n",
    "def classification(score):\n",
    "    if score in range(1, 7):\n",
    "        return 'detracteur'\n",
    "    elif score in range(7, 9):\n",
    "        return 'neutre'\n",
    "    else:\n",
    "        return 'promoteur'"
   ]
  },
  {
   "cell_type": "code",
   "execution_count": 33,
   "metadata": {},
   "outputs": [],
   "source": [
    "# Fonction de calcul du NPS\n",
    "def compute_nps(data):\n",
    "    repartition = data.value_counts(normalize=True)\n",
    "    classes = ['detracteur', 'promoteur']\n",
    "    for classe in classes:\n",
    "        repartition[classe] = 0 if classe not in repartition.index else repartition[classe]\n",
    "    return round(100*(repartition['promoteur'] - repartition['detracteur']), 2)\n"
   ]
  },
  {
   "cell_type": "code",
   "execution_count": 34,
   "metadata": {},
   "outputs": [],
   "source": [
    "def print_what_happened(data, output_file):\n",
    "    # Create a copy of the DataFrame to avoid the SettingWithCopyWarning\n",
    "    data_copy = data.copy()\n",
    "    \n",
    "    # Replace values in the 'region' column\n",
    "    data_copy['region'].replace({'Yaoundé' : 'CM Centre', 'Douala' : 'CM Littoral'}, inplace=True)\n",
    "         \n",
    "    # Supprimer le \"CM\" devant chaque région\n",
    "    data_copy['region'] = data_copy['region'].str.replace('CM ', '', regex=False)\n",
    "    # Specify the indicators to compute mean for\n",
    "    indicators = ['qualite_couverture', 'qualite_appels', 'qualite_data_principal', 'qualite_service_client']\n",
    "    \n",
    "    # Group by 'region' column and aggregate\n",
    "    nps_regional = data_copy.groupby('region').agg({'classe': [compute_nps, 'count'],\n",
    "                                                    **{ind: 'mean' for ind in indicators}})\n",
    "    \n",
    "    # Reset the index to move 'region' from index to a column\n",
    "    nps_regional.reset_index(inplace=True)\n",
    "\n",
    "    # Rename columns for clarity\n",
    "    nps_regional.columns = ['region', 'nps', 'nombre répondants'] + [f'{ind}_moyenne' for ind in indicators]\n",
    "    \n",
    "      \n",
    "    # Convert DataFrame to JSON\n",
    "    json_data = nps_regional.to_json(orient='records')\n",
    "    \n",
    "    # Write JSON to a file\n",
    "    with open(output_file, 'w') as f:\n",
    "        f.write(json_data)\n",
    "\n",
    "    print(\"Les informations ont été enregistrées dans le fichier\", output_file)\n",
    "\n",
    "    \n",
    "    # Print the result\n",
    "    print(\"Notes Régionalisées:\")\n",
    "    print(nps_regional)"
   ]
  },
  {
   "cell_type": "markdown",
   "metadata": {},
   "source": [
    "##### **Chargement des données**"
   ]
  },
  {
   "cell_type": "code",
   "execution_count": 35,
   "metadata": {},
   "outputs": [],
   "source": [
    "data_complete = pd.read_excel('data/data_map_processed.xlsx')"
   ]
  },
  {
   "cell_type": "code",
   "execution_count": 36,
   "metadata": {},
   "outputs": [],
   "source": [
    "# Filtrer les données pour ne conserver que celles concernant l'opérateur Orange\n",
    "data = data_complete[data_complete['operateur_telco'] == 'Orange'].copy()\n"
   ]
  },
  {
   "cell_type": "code",
   "execution_count": 37,
   "metadata": {},
   "outputs": [
    {
     "data": {
      "text/plain": [
       "1095"
      ]
     },
     "execution_count": 37,
     "metadata": {},
     "output_type": "execute_result"
    }
   ],
   "source": [
    "len(data)"
   ]
  },
  {
   "cell_type": "code",
   "execution_count": 38,
   "metadata": {},
   "outputs": [],
   "source": [
    "# Pour classer les scores de NPS\n",
    "data.loc[:, 'classe'] = data['note_nps'].apply(classification)"
   ]
  },
  {
   "cell_type": "code",
   "execution_count": 39,
   "metadata": {},
   "outputs": [
    {
     "name": "stdout",
     "output_type": "stream",
     "text": [
      "NPS Global: -11.96\n"
     ]
    }
   ],
   "source": [
    "# Calculer le NPS global\n",
    "nps_global = compute_nps(data['classe'])\n",
    "print(\"NPS Global:\", nps_global)"
   ]
  },
  {
   "cell_type": "code",
   "execution_count": 40,
   "metadata": {},
   "outputs": [
    {
     "name": "stdout",
     "output_type": "stream",
     "text": [
      "Les informations ont été enregistrées dans le fichier output/NPS_MARS.json\n",
      "Notes Régionalisées:\n",
      "         region    nps  nombre répondants  qualite_couverture_moyenne  \\\n",
      "0      Adamaoua -22.22                 63                    6.873016   \n",
      "1        Centre -25.27                277                    6.584838   \n",
      "2           Est -30.77                 52                    5.961538   \n",
      "3  Extrême-Nord   3.16                158                    7.670886   \n",
      "4      Littoral -19.50                241                    6.506224   \n",
      "5          Nord  10.48                105                    7.371429   \n",
      "6    Nord-Ouest  19.35                 31                    7.064516   \n",
      "7         Ouest   0.00                 95                    7.189474   \n",
      "8           Sud -26.19                 42                    6.523810   \n",
      "9     Sud-Ouest  16.13                 31                    6.741935   \n",
      "\n",
      "   qualite_appels_moyenne  qualite_data_principal_moyenne  \\\n",
      "0                6.682540                        7.468750   \n",
      "1                6.916968                        6.371429   \n",
      "2                6.634615                        6.923077   \n",
      "3                7.613924                        7.202532   \n",
      "4                6.966805                        6.148760   \n",
      "5                7.504762                        7.830189   \n",
      "6                7.870968                        7.937500   \n",
      "7                7.431579                        7.062500   \n",
      "8                6.500000                        7.047619   \n",
      "9                8.225806                        7.933333   \n",
      "\n",
      "   qualite_service_client_moyenne  \n",
      "0                        7.539683  \n",
      "1                        7.093863  \n",
      "2                        6.788462  \n",
      "3                        7.797468  \n",
      "4                        7.124481  \n",
      "5                        7.428571  \n",
      "6                        7.064516  \n",
      "7                        7.326316  \n",
      "8                        6.952381  \n",
      "9                        8.193548  \n"
     ]
    }
   ],
   "source": [
    "# Call the function to print regional scores for both NPS and quality of coverage\n",
    "print_what_happened(data, \"output/NPS_MARS.json\")"
   ]
  },
  {
   "cell_type": "code",
   "execution_count": null,
   "metadata": {},
   "outputs": [],
   "source": []
  }
 ],
 "metadata": {
  "kernelspec": {
   "display_name": "base",
   "language": "python",
   "name": "python3"
  },
  "language_info": {
   "codemirror_mode": {
    "name": "ipython",
    "version": 3
   },
   "file_extension": ".py",
   "mimetype": "text/x-python",
   "name": "python",
   "nbconvert_exporter": "python",
   "pygments_lexer": "ipython3",
   "version": "3.9.13"
  }
 },
 "nbformat": 4,
 "nbformat_minor": 2
}
