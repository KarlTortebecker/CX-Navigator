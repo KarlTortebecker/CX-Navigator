{
 "cells": [
  {
   "cell_type": "code",
   "execution_count": null,
   "metadata": {},
   "outputs": [],
   "source": [
    "import pandas as pd\n",
    "import json\n",
    "\n",
    "data = pd.read_excel(\"C:/Users/SJWF8604/Documents/Localisation sites.xlsx\")\n",
    "\n",
    "#filtrer les lignes avec la colonne \"Selection\" égale à 1\n",
    "selected_data = data[data['Selection'] == 1]\n"
   ]
  },
  {
   "cell_type": "code",
   "execution_count": null,
   "metadata": {},
   "outputs": [],
   "source": [
    "# Créer une liste de marqueurs\n",
    "markers = []\n",
    "\n",
    "for i, r in selected_data.iterrows():\n",
    "    markers.append({\n",
    "        'nom': r['Nomdusitenew'],\n",
    "        'coords': [r['Max. de Latitude'], r['Max. de Longitude']],\n",
    "        'code': r['Codesitenew'],\n",
    "        'localite': r['Localité'],\n",
    "        'region' : r['Region Territoriale'],\n",
    "        'departement': r['Département'],\n",
    "        'arrondissement':r['Arrondissement']\n",
    "\n",
    "    })"
   ]
  },
  {
   "cell_type": "code",
   "execution_count": null,
   "metadata": {},
   "outputs": [
    {
     "name": "stdout",
     "output_type": "stream",
     "text": [
      "2372\n"
     ]
    }
   ],
   "source": [
    "print(len(markers))\n"
   ]
  },
  {
   "cell_type": "code",
   "execution_count": null,
   "metadata": {},
   "outputs": [],
   "source": [
    "# Exporter les marqueurs en format JSON\n",
    "with open('markers.json', 'w') as f:\n",
    "    json.dump(markers, f)"
   ]
  },
  {
   "cell_type": "code",
   "execution_count": 3,
   "metadata": {},
   "outputs": [],
   "source": [
    "import pandas as pd\n",
    "import json\n",
    "\n",
    "df_sites = pd.read_excel('C:/Users/SJWF8604/Documents/projects/CX Navigator/scripts/data/Echantillon_sites.xlsx',  usecols=['nom', 'localite', 'region', 'departement', 'arrondissement', 'zone_pmo', 'code','type_zone','latitude', 'longitude'])"
   ]
  },
  {
   "cell_type": "code",
   "execution_count": 4,
   "metadata": {},
   "outputs": [
    {
     "name": "stdout",
     "output_type": "stream",
     "text": [
      "       localite      region       departement arrondissement    type_zone  \\\n",
      "0        BOUSSA        NORD            BÉNOUE          PITOA       Rurale   \n",
      "1       MBOMELA         SUD       DJA-ET-LOBO          DJOUM       Rurale   \n",
      "2        DOUALA    LITTORAL             WOURI        DOUALA3       Urbain   \n",
      "3       YAOUNDE      CENTRE           MFOUNDI       YAOUNDÉ1       Urbain   \n",
      "4      LAMEDOUM         EST   BOUMBA-ET-NGOKO      YOKADOUMA       Rurale   \n",
      "..          ...         ...               ...            ...          ...   \n",
      "661       AMBAM         SUD    VALLÉE-DU-NTEM          AMBAM  Semi-Urbain   \n",
      "662      DOUALA    LITTORAL             WOURI        DOUALA3       Urbain   \n",
      "663  AKONOLINGA      CENTRE  NYONG-ET-MFOUMOU     AKONOLINGA  Semi-Urbain   \n",
      "664      FUNGOM  NORD-OUEST           MENCHUM         FUNGOM       Rurale   \n",
      "665  NGAOUNTERE    ADAMAOUA       FARO-ET-DÉO        TIGNÈRE       Rurale   \n",
      "\n",
      "                              zone_pmo     code                       nom  \\\n",
      "0              GAROUA OUEST-MAYO LOUTI  EXN_041               OBOBOGO-NEW   \n",
      "1                            GRAND SUD  OCM0062             MAROUA-ORANGE   \n",
      "2                              VILLAGE  EXN_012           TALLA-KRIBI-IHS   \n",
      "3                         BASTOS-ESSOS  OCM0208                  TOLE-IHS   \n",
      "4                      BOUMBA ET NGOKO  OCM0104                SONG-MAHOP   \n",
      "..                                 ...      ...                       ...   \n",
      "661                          GRAND SUD  NRD_032                MEFOU-ASSI   \n",
      "662                            VILLAGE  LIT_669             DOUME-MTN-IHS   \n",
      "663  EKOUNOU - MFOU - NYONG ET MFOUMOU  NUR0033       INSTITUTE-SAMBA-NEW   \n",
      "664             BAMENDA MANKON MENCHUM  NRD_062  NDPSSI-VALLEE-DE-LA-PAIX   \n",
      "665                     DJEREM - MBERE  OST_300         MPENDA-MBOCKO-IHS   \n",
      "\n",
      "     longitude   latitude  \n",
      "0    13.588944   7.295389  \n",
      "1     9.725518   4.071365  \n",
      "2    12.059690   5.613630  \n",
      "3    11.128303   2.804068  \n",
      "4     9.814172   3.979310  \n",
      "..         ...        ...  \n",
      "661  12.199820   5.232310  \n",
      "662  14.835721  10.180425  \n",
      "663  13.993090  10.691640  \n",
      "664  11.522225   3.855655  \n",
      "665  13.829818   9.828275  \n",
      "\n",
      "[666 rows x 10 columns]\n"
     ]
    }
   ],
   "source": [
    "print(df_sites)"
   ]
  },
  {
   "cell_type": "code",
   "execution_count": 8,
   "metadata": {},
   "outputs": [],
   "source": [
    "# Créer une liste de dictionnaires\n",
    "markers = []\n",
    "\n",
    "for i, r in df_sites.iterrows():\n",
    "    markers.append({\n",
    "        'nom': r['nom'],\n",
    "        'localite': r['localite'],\n",
    "        'region': r['region'],\n",
    "        'departement': r['departement'],\n",
    "        'arrondissement': r['arrondissement'],\n",
    "        'zone_pmo': r['zone_pmo'],\n",
    "        'code': r['code'],\n",
    "        'type_zone': r['type_zone'],\n",
    "        'coords': [r['latitude'], r['longitude']]\n",
    "    })\n"
   ]
  },
  {
   "cell_type": "code",
   "execution_count": 9,
   "metadata": {},
   "outputs": [],
   "source": [
    "# Convertir la liste en JSON\n",
    "json_data = json.dumps(markers)\n",
    "\n",
    "# Écrire le JSON dans un fichier\n",
    "with open('echantillons_sites.json', 'w') as f:\n",
    "    f.write(json_data)"
   ]
  }
 ],
 "metadata": {
  "kernelspec": {
   "display_name": "base",
   "language": "python",
   "name": "python3"
  },
  "language_info": {
   "codemirror_mode": {
    "name": "ipython",
    "version": 3
   },
   "file_extension": ".py",
   "mimetype": "text/x-python",
   "name": "python",
   "nbconvert_exporter": "python",
   "pygments_lexer": "ipython3",
   "version": "3.9.13"
  }
 },
 "nbformat": 4,
 "nbformat_minor": 2
}
