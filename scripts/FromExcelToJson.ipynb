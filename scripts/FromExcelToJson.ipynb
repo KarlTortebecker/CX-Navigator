{
 "cells": [
  {
   "cell_type": "code",
   "execution_count": null,
   "metadata": {},
   "outputs": [],
   "source": [
    "import pandas as pd\n",
    "import json\n",
    "\n",
    "data = pd.read_excel(\"C:/Users/SJWF8604/Documents/Localisation sites.xlsx\")\n",
    "\n",
    "#filtrer les lignes avec la colonne \"Selection\" égale à 1\n",
    "selected_data = data[data['Selection'] == 1]\n"
   ]
  },
  {
   "cell_type": "code",
   "execution_count": null,
   "metadata": {},
   "outputs": [],
   "source": [
    "# Créer une liste de marqueurs\n",
    "markers = []\n",
    "\n",
    "for i, r in selected_data.iterrows():\n",
    "    markers.append({\n",
    "        'nom': r['Nomdusitenew'],\n",
    "        'coords': [r['Max. de Latitude'], r['Max. de Longitude']],\n",
    "        'code': r['Codesitenew'],\n",
    "        'localite': r['Localité'],\n",
    "        'region' : r['Region Territoriale'],\n",
    "        'departement': r['Département'],\n",
    "        'arrondissement':r['Arrondissement']\n",
    "\n",
    "    })"
   ]
  },
  {
   "cell_type": "code",
   "execution_count": null,
   "metadata": {},
   "outputs": [
    {
     "name": "stdout",
     "output_type": "stream",
     "text": [
      "2372\n"
     ]
    }
   ],
   "source": [
    "print(len(markers))\n"
   ]
  },
  {
   "cell_type": "code",
   "execution_count": null,
   "metadata": {},
   "outputs": [],
   "source": [
    "# Exporter les marqueurs en format JSON\n",
    "with open('markers.json', 'w') as f:\n",
    "    json.dump(markers, f)"
   ]
  }
 ],
 "metadata": {
  "language_info": {
   "name": "python"
  }
 },
 "nbformat": 4,
 "nbformat_minor": 2
}
